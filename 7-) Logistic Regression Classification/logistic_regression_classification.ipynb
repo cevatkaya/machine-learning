{
 "cells": [
  {
   "cell_type": "markdown",
   "id": "9c9ab348",
   "metadata": {},
   "source": [
    "# Logistic Regression"
   ]
  },
  {
   "cell_type": "markdown",
   "id": "b44fd0ab",
   "metadata": {},
   "source": [
    "* When we talk about binary classification( 0 and 1 outputs) what comes to mind first is logistic regression.\n",
    "* However, in deep learning tutorial what to do with logistic regression there?\n",
    "* The answer is that logistic regression is actually a very simple neural network.\n",
    "* By the way neural network and deep learning are same thing.\n",
    "* In order to understand logistic regression (simple deep learning) lets first learn computation graph."
   ]
  },
  {
   "cell_type": "code",
   "execution_count": null,
   "id": "f347e62f",
   "metadata": {},
   "outputs": [],
   "source": []
  }
 ],
 "metadata": {
  "kernelspec": {
   "display_name": "Python 3 (ipykernel)",
   "language": "python",
   "name": "python3"
  },
  "language_info": {
   "codemirror_mode": {
    "name": "ipython",
    "version": 3
   },
   "file_extension": ".py",
   "mimetype": "text/x-python",
   "name": "python",
   "nbconvert_exporter": "python",
   "pygments_lexer": "ipython3",
   "version": "3.9.13"
  }
 },
 "nbformat": 4,
 "nbformat_minor": 5
}
