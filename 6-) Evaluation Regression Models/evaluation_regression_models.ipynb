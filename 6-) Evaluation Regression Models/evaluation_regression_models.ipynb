{
 "cells": [
  {
   "cell_type": "markdown",
   "id": "67ccec77",
   "metadata": {},
   "source": [
    "# Evaluation Regression Models"
   ]
  },
  {
   "cell_type": "markdown",
   "id": "5bf1f48b",
   "metadata": {},
   "source": [
    "Burada regressionla ilgili Evaluation Model performanslarini gorecegiz. Diyelim ki bir random forest modelimiz var ve bir predict yapti. Yapilan prediction sonuclarinin ne kadar dogru olup olmadigini inceleyecegiz. \n",
    "\n",
    "Linear Regression' da bir matematiksel ifademiz vardi;\n",
    "\n",
    "> residual = y - y_head\n",
    "\n",
    "> square_residual = (residual) ** 2\n",
    "\n",
    "> sum_square_residual = sum((y - y_head) ** 2)\n",
    "\n",
    "Biz buna SSR diyecegiz.\n",
    "\n",
    "#### Evaluation Regression Models' da ise;\n",
    "\n",
    "y_avg (ortalama) adinda bir degerimiz var. Matematiksel ifadesi ise,\n",
    "\n",
    "> sum_square_total = sum((y - y_avg) ** 2) dir.\n",
    "\n",
    "Biz buna SST diyecegiz.\n",
    "\n",
    "> R^2 = 1 - (SSS / SST)\n",
    "\n",
    "Eger R^2 degeri 1' e ne kadar yakin ise model performansimiz o kadar iyi demektir."
   ]
  },
  {
   "cell_type": "markdown",
   "id": "05121e84",
   "metadata": {},
   "source": [
    "Simdi bunu Random Forest Regressionda kullanalim."
   ]
  },
  {
   "cell_type": "code",
   "execution_count": 1,
   "id": "c9353be1",
   "metadata": {},
   "outputs": [],
   "source": [
    "import pandas as pd\n",
    "import matplotlib.pyplot as plt\n",
    "import numpy as np"
   ]
  },
  {
   "cell_type": "code",
   "execution_count": 2,
   "id": "92508842",
   "metadata": {},
   "outputs": [],
   "source": [
    "df = pd.read_csv(\"random_forest_regression.csv\", sep = \";\", header = None)"
   ]
  },
  {
   "cell_type": "code",
   "execution_count": 3,
   "id": "7029a6dc",
   "metadata": {},
   "outputs": [],
   "source": [
    "x = df.iloc[:, 0].values.reshape(-1, 1)\n",
    "y = df.iloc[:, 1].values.reshape(-1, 1)"
   ]
  },
  {
   "cell_type": "code",
   "execution_count": 4,
   "id": "a84a1cde",
   "metadata": {},
   "outputs": [
    {
     "name": "stderr",
     "output_type": "stream",
     "text": [
      "C:\\Users\\cevat\\AppData\\Local\\Temp\\ipykernel_1192\\3713642102.py:4: DataConversionWarning: A column-vector y was passed when a 1d array was expected. Please change the shape of y to (n_samples,), for example using ravel().\n",
      "  rf.fit(x, y)\n"
     ]
    },
    {
     "data": {
      "text/plain": [
       "RandomForestRegressor(random_state=42)"
      ]
     },
     "execution_count": 4,
     "metadata": {},
     "output_type": "execute_result"
    }
   ],
   "source": [
    "from sklearn.ensemble import RandomForestRegressor\n",
    "\n",
    "rf = RandomForestRegressor(n_estimators= 100, random_state= 42)\n",
    "rf.fit(x, y)"
   ]
  },
  {
   "cell_type": "code",
   "execution_count": 5,
   "id": "d303bf2b",
   "metadata": {},
   "outputs": [
    {
     "data": {
      "text/plain": [
       "array([89.1 , 83.3 , 72.1 , 61.9 , 52.1 , 42.8 , 30.8 , 22.7 , 12.65,\n",
       "        8.5 ])"
      ]
     },
     "execution_count": 5,
     "metadata": {},
     "output_type": "execute_result"
    }
   ],
   "source": [
    "y_head = rf.predict(x)\n",
    "y_head"
   ]
  },
  {
   "cell_type": "code",
   "execution_count": 6,
   "id": "05de7c0d",
   "metadata": {},
   "outputs": [
    {
     "name": "stdout",
     "output_type": "stream",
     "text": [
      "Random Forest r_square score:  0.9798724794092587\n"
     ]
    }
   ],
   "source": [
    "from sklearn.metrics import r2_score\n",
    "\n",
    "print(\"Random Forest r_square score: \", r2_score(y, y_head))"
   ]
  },
  {
   "cell_type": "markdown",
   "id": "4ac54c5b",
   "metadata": {},
   "source": [
    "y ve predict ettigimiz y_head degeri karsilastirildiginda R^2 degerinin goruldugu uzere 1' e yakin bir sonuc elde ettik."
   ]
  },
  {
   "cell_type": "markdown",
   "id": "58530e3c",
   "metadata": {},
   "source": [
    "Bir de Linear Regressionda kullanalim."
   ]
  },
  {
   "cell_type": "code",
   "execution_count": 7,
   "id": "bd05ffed",
   "metadata": {},
   "outputs": [],
   "source": [
    "df = pd.read_csv(\"linear_regression_dataset.csv\", sep = \";\")"
   ]
  },
  {
   "cell_type": "code",
   "execution_count": 8,
   "id": "fc2f77b3",
   "metadata": {},
   "outputs": [
    {
     "data": {
      "text/plain": [
       "LinearRegression()"
      ]
     },
     "execution_count": 8,
     "metadata": {},
     "output_type": "execute_result"
    }
   ],
   "source": [
    "# sklearn library\n",
    "from sklearn.linear_model import LinearRegression\n",
    "\n",
    "# linear regression model\n",
    "linear_reg = LinearRegression()\n",
    "\n",
    "x = df.deneyim.values.reshape(-1,1)\n",
    "y = df.maas.values.reshape(-1,1)\n",
    "\n",
    "linear_reg.fit(x, y)"
   ]
  },
  {
   "cell_type": "code",
   "execution_count": 9,
   "id": "3c74c83a",
   "metadata": {},
   "outputs": [
    {
     "data": {
      "text/plain": [
       "[<matplotlib.lines.Line2D at 0x193a1a975e0>]"
      ]
     },
     "execution_count": 9,
     "metadata": {},
     "output_type": "execute_result"
    },
    {
     "data": {
      "image/png": "[encoded data removed]",
      "text/plain": [
       "<Figure size 640x480 with 1 Axes>"
      ]
     },
     "metadata": {},
     "output_type": "display_data"
    }
   ],
   "source": [
    "plt.scatter(df.deneyim, df.maas)\n",
    "plt.xlabel(\"deneyim\")\n",
    "plt.ylabel(\"maas\")\n",
    "\n",
    "y_head = linear_reg.predict(x) # maas\n",
    "plt.plot(x, y_head, color = \"red\")"
   ]
  },
  {
   "cell_type": "code",
   "execution_count": 10,
   "id": "7119cc36",
   "metadata": {},
   "outputs": [
    {
     "name": "stdout",
     "output_type": "stream",
     "text": [
      "Linear Regression r_square score:  0.9775283164949902\n"
     ]
    }
   ],
   "source": [
    "from sklearn.metrics import r2_score\n",
    "\n",
    "print(\"Linear Regression r_square score: \", r2_score(y, y_head))"
   ]
  }
 ],
 "metadata": {
  "kernelspec": {
   "display_name": "Python 3 (ipykernel)",
   "language": "python",
   "name": "python3"
  },
  "language_info": {
   "codemirror_mode": {
    "name": "ipython",
    "version": 3
   },
   "file_extension": ".py",
   "mimetype": "text/x-python",
   "name": "python",
   "nbconvert_exporter": "python",
   "pygments_lexer": "ipython3",
   "version": "3.9.13"
  }
 },
 "nbformat": 4,
 "nbformat_minor": 5
}
